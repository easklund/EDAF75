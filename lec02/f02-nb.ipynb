{
 "cells": [
  {
   "cell_type": "markdown",
   "metadata": {},
   "source": [
    "# More SQL\n",
    "\n",
    "Today we'll continue where we left off last time, and then\n",
    "learn how to use multiple tables (we actually did that once\n",
    "last time, but then we only combined the result of searches\n",
    "in different tables -- this time we well search several\n",
    "tables at once).\n",
    "\n",
    "As usual we have to tell Jupyter to allow SQL:"
   ]
  },
  {
   "cell_type": "code",
   "execution_count": null,
   "metadata": {},
   "outputs": [],
   "source": [
    "%load_ext sql"
   ]
  },
  {
   "cell_type": "markdown",
   "metadata": {},
   "source": [
    "And then we import the database for today's lecture:"
   ]
  },
  {
   "cell_type": "code",
   "execution_count": null,
   "metadata": {},
   "outputs": [],
   "source": [
    "%sql sqlite:///lect02.sqlite"
   ]
  },
  {
   "cell_type": "markdown",
   "metadata": {},
   "source": [
    "## Groups and aggregate functions revisited\n",
    "\n",
    "To understand `GROUP BY`, lets look at the following query:"
   ]
  },
  {
   "cell_type": "code",
   "execution_count": null,
   "metadata": {},
   "outputs": [],
   "source": [
    "%%sql\n",
    "SELECT category, COUNT()\n",
    "FROM   nobel\n",
    "WHERE  year = 2013\n",
    "GROUP BY category"
   ]
  },
  {
   "cell_type": "markdown",
   "metadata": {},
   "source": [
    "To see what happens, we can look at the query:"
   ]
  },
  {
   "cell_type": "code",
   "execution_count": null,
   "metadata": {},
   "outputs": [],
   "source": [
    "%%sql\n",
    "SELECT year, category, laureate\n",
    "FROM   nobel\n",
    "WHERE  year = 2013\n",
    "ORDER BY category"
   ]
  },
  {
   "cell_type": "markdown",
   "metadata": {},
   "source": [
    "Here the rows of each category will end up ajacent to each\n",
    "other, and what the `GROUP BY` command does is to insert an\n",
    "invisible divider between the groups. If we apply an\n",
    "aggregate function, such as `COUNT()`, in a table we have\n",
    "grouped, it will be applied to each group, not to the whole\n",
    "table. So instead of getting one `COUNT()` for the whole\n",
    "table (it would be a single value), we get one `COUNT()` for\n",
    "each group (as above).\n",
    "\n",
    "If we substitute `category` with `laureate` in the first\n",
    "line, we get a strange result:"
   ]
  },
  {
   "cell_type": "code",
   "execution_count": null,
   "metadata": {},
   "outputs": [],
   "source": [
    "%%sql\n",
    "SELECT laureate, COUNT()\n",
    "FROM   nobel\n",
    "WHERE  year = 2013\n",
    "GROUP BY category"
   ]
  },
  {
   "cell_type": "markdown",
   "metadata": {},
   "source": [
    "The problem is that we only get one row per group in the\n",
    "output, and that there may be several laureates in each\n",
    "group -- our query will return one of them in a seemingly\n",
    "haphazard manner.\n",
    "\n",
    "It we use `category` in the `SELECT` statement (as in the\n",
    "first query above), we get a value which we know is the same\n",
    "for each row in the group (by definition, since that's what\n",
    "we grouped by).\n",
    "\n",
    "If we're only interested in those categories with less than\n",
    "three laureates, we use `HAVING` to select only _groups_\n",
    "with a given property:"
   ]
  },
  {
   "cell_type": "code",
   "execution_count": null,
   "metadata": {},
   "outputs": [],
   "source": [
    "%%sql\n",
    "SELECT category, COUNT()\n",
    "FROM   nobel\n",
    "WHERE  year = 2013\n",
    "GROUP BY category\n",
    "HAVING COUNT() < 3"
   ]
  },
  {
   "cell_type": "markdown",
   "metadata": {},
   "source": [
    "This corresponds to a `WHERE` statement, but it applies to\n",
    "groups, not to individual rows (as `WHERE` does).\n",
    "\n",
    "In the query above we first have a `WHERE` statement to\n",
    "select some rows from the whole table, and then group the\n",
    "resulting selection.\n",
    "\n",
    "We can't have another `WHERE` after the `HAVING`, but we can\n",
    "make this query a subquery, and have another `WHERE` in the\n",
    "outer query:"
   ]
  },
  {
   "cell_type": "code",
   "execution_count": null,
   "metadata": {},
   "outputs": [],
   "source": [
    "%%sql\n",
    "SELECT category, cnt\n",
    "FROM (\n",
    "    SELECT category, COUNT() AS cnt\n",
    "    FROM   nobel\n",
    "    WHERE  year = 2013\n",
    "    GROUP BY category\n",
    "    HAVING COUNT() < 3)\n",
    "WHERE cnt > 1"
   ]
  },
  {
   "cell_type": "markdown",
   "metadata": {},
   "source": [
    "**Exercise:** _Has anyone won more than one Nobel price?_"
   ]
  },
  {
   "cell_type": "code",
   "execution_count": null,
   "metadata": {},
   "outputs": [],
   "source": [
    "%%sql\n"
   ]
  },
  {
   "cell_type": "markdown",
   "metadata": {},
   "source": [
    "**Exercise:** _Has anyone won more than one Nobel price in the same\n",
    "category?_"
   ]
  },
  {
   "cell_type": "code",
   "execution_count": null,
   "metadata": {},
   "outputs": [],
   "source": [
    "%%sql\n"
   ]
  },
  {
   "cell_type": "markdown",
   "metadata": {},
   "source": [
    "## Subqueries, continued...\n",
    "\n",
    "Last time we saw a useful form of _subquery_:"
   ]
  },
  {
   "cell_type": "markdown",
   "metadata": {},
   "source": [
    "```sql\n",
    "SELECT ...\n",
    "FROM   ...\n",
    "WHERE  ... IN\n",
    "       (SELECT ...\n",
    "        FROM ...\n",
    "        WHERE ...)\n",
    "```\n"
   ]
  },
  {
   "cell_type": "markdown",
   "metadata": {},
   "source": [
    "Let's go back to the final problem from last time, and try\n",
    "to solve it using a subquery.\n",
    "\n",
    "**Exercise:** _Who has shared the chemistry prize with exactly one\n",
    "other laureate in years when the summer olympics were held\n",
    "in Europe?_"
   ]
  },
  {
   "cell_type": "code",
   "execution_count": null,
   "metadata": {},
   "outputs": [],
   "source": [
    "%%sql\n"
   ]
  },
  {
   "cell_type": "code",
   "execution_count": null,
   "metadata": {},
   "outputs": [],
   "source": [
    "%%sql\n"
   ]
  },
  {
   "cell_type": "code",
   "execution_count": null,
   "metadata": {},
   "outputs": [],
   "source": [
    "%%sql\n"
   ]
  },
  {
   "cell_type": "markdown",
   "metadata": {},
   "source": [
    "## Instead of lists\n",
    "\n",
    "One of the 'rules' of relational databases is that the\n",
    "values in our tables must be primitive, we're not allowed to\n",
    "have lists or objects as values. This requirement is called\n",
    "[\"First normal\n",
    "form\"](https://en.wikipedia.org/wiki/First_normal_form), or\n",
    "\"1NF\" -- we'll return to 'normal forms' during lectures 7\n",
    "and 8.\n",
    "\n",
    "If we were to write a program to keep track of the phone\n",
    "numbers of our friends, we could write something like this\n",
    "in Java:"
   ]
  },
  {
   "cell_type": "markdown",
   "metadata": {},
   "source": [
    "```java\n",
    "class Friend {\n",
    "\n",
    "    private String name;\n",
    "    private List<PhoneNumber> phoneNumbers;\n",
    "    \n",
    "    ...\n",
    "}\n",
    "\n",
    "List<Friend> friends = ...\n",
    "```\n"
   ]
  },
  {
   "cell_type": "markdown",
   "metadata": {},
   "source": [
    "A literal translation of this into a table would be\n",
    "something like:"
   ]
  },
  {
   "cell_type": "markdown",
   "metadata": {},
   "source": [
    "```\n",
    "name      phone_numbers\n",
    "----      -------------\n",
    "Adam      [123456, 654321]\n",
    "Bodil     [196811]\n",
    "```\n"
   ]
  },
  {
   "cell_type": "markdown",
   "metadata": {},
   "source": [
    "but this is in violation of the 'First normal form', so\n",
    "instead have a new row for each phone number:"
   ]
  },
  {
   "cell_type": "markdown",
   "metadata": {},
   "source": [
    "```\n",
    "name      phone\n",
    "----      -----\n",
    "Adam      123456\n",
    "Adam      654321\n",
    "Bodil     196811\n",
    "```\n"
   ]
  },
  {
   "cell_type": "markdown",
   "metadata": {},
   "source": [
    "We can ask for Adam's number with:"
   ]
  },
  {
   "cell_type": "markdown",
   "metadata": {},
   "source": [
    "```sql\n",
    "SELECT phone\n",
    "FROM   friends\n",
    "WHERE  name = 'Adam'\n",
    "```\n"
   ]
  },
  {
   "cell_type": "markdown",
   "metadata": {},
   "source": [
    "and we'd get both numbers back:"
   ]
  },
  {
   "cell_type": "markdown",
   "metadata": {},
   "source": [
    "```\n",
    "phone\n",
    "-----\n",
    "123456\n",
    "654321\n",
    "```\n"
   ]
  },
  {
   "cell_type": "markdown",
   "metadata": {},
   "source": [
    "Now, assume we also want to save the birthdays of our\n",
    "friends. We could add a column for birthdays like this:"
   ]
  },
  {
   "cell_type": "markdown",
   "metadata": {},
   "source": [
    "```\n",
    "name    birthday    phone\n",
    "----    --------    -----\n",
    "Adam    2 dec       123456\n",
    "Adam    2 dec       654321\n",
    "Bodil   30 nov      196811\n",
    "```\n"
   ]
  },
  {
   "cell_type": "markdown",
   "metadata": {},
   "source": [
    "What's the problem with this?\n",
    "\n",
    "And what if we also want to save our friends' email\n",
    "addresses:"
   ]
  },
  {
   "cell_type": "markdown",
   "metadata": {},
   "source": [
    "```\n",
    "name        birthday    phone       email\n",
    "----        --------    -----       -----\n",
    "Adam        2 dec       123456      adam@gmail.com\n",
    "Adam        2 dec       123456      adam@yahoo.com\n",
    "Adam        2 dec       654321      adam@gmail.com\n",
    "Adam        2 dec       654321      adam@yahoo.com\n",
    "Bodil       30 nov      196811      bodil@itu.dk\n",
    "Bodil       30 nov      196811      bodil@lu.se\n",
    "Cecilia     9 apr       511235      cecilia@dn.se\n",
    "Cecilia     9 apr       641587      cecilia@dn.se\n",
    "David       12 jun      984531      david@gmail.co\n",
    "David       12 jun      984531      david@hotmail\n",
    "Emma        11 aug      123456      emma@lu.se\n",
    "```\n"
   ]
  },
  {
   "cell_type": "markdown",
   "metadata": {},
   "source": [
    "It may seem silly to have four rows for Adam, but if we\n",
    "removed one of them, we would loose vital information. If we\n",
    "removed the first row, and someone asked who had the phone\n",
    "number 123456 and the email address adam@gmail.com, the\n",
    "query:"
   ]
  },
  {
   "cell_type": "markdown",
   "metadata": {},
   "source": [
    "```sql\n",
    "SELECT  name, birthday\n",
    "FROM    friends\n",
    "WHERE   phone = '123456' AND email = 'adam@gmail.com'\n",
    "```\n"
   ]
  },
  {
   "cell_type": "markdown",
   "metadata": {},
   "source": [
    "would give an empty result.\n",
    "\n",
    "The problem with the table above is that we have a lot of\n",
    "redundance, i.e., information is repeated in many places.\n",
    "This is not only a waste of storage space, it also makes it\n",
    "much, much harder to work with our table -- insertions,\n",
    "updates and removals affects many rows, and if we're not\n",
    "careful, we might leave the table in a corrupted state.\n",
    "\n",
    "**Exercise:** _The data in the table above would be much easier to\n",
    "maintain if we split it into several tables -- suggest how\n",
    "to do that._\n",
    "\n",
    "\n",
    "## Joining tables together\n",
    "\n",
    "The basic idea and data for the following example is taken\n",
    "from Jennifer Widom, she's one of the authors of the course\n",
    "book (I've made some name alterations to comply with the\n",
    "coding conventions I use).\n",
    "\n",
    "We want a database for handling college applications, a\n",
    "number of students applies for various majors at different\n",
    "colleges. We want to keep track of:\n",
    "\n",
    " + student id (similar to stil-id)\n",
    " + student name\n",
    " + student's grade average (gpa)\n",
    " + the size of the student's highschool\n",
    " + the names of the colleges\n",
    " + the state for each college\n",
    " + the enrollment for each college\n",
    " + the major applied for\n",
    " + the decision ('Y' for accepted, 'N' otherwise)\n",
    "\n",
    "One way of doing this would be to use one big table:"
   ]
  },
  {
   "cell_type": "code",
   "execution_count": null,
   "metadata": {},
   "outputs": [],
   "source": [
    "%%sql\n",
    "SELECT *\n",
    "FROM   big_college"
   ]
  },
  {
   "cell_type": "markdown",
   "metadata": {},
   "source": [
    "But, just as with our friends database above, this would\n",
    "give us a lot of redundance, so we'd like to split this big\n",
    "table into several related tables.\n",
    "\n",
    "In lectures 7 and 8 we'll discuss the theory and practice of\n",
    "splitting up tables -- for now, suggest tables which you\n",
    "think would make working with our data easier.\n",
    "\n",
    "<p>&nbsp;</p>\n",
    "<p>&nbsp;</p>\n",
    "<p>&nbsp;</p>\n",
    "<p>&nbsp;</p>\n",
    "<p>&nbsp;</p>\n",
    "<p>&nbsp;</p>\n",
    "\n",
    "We have one table for the students:"
   ]
  },
  {
   "cell_type": "code",
   "execution_count": null,
   "metadata": {},
   "outputs": [],
   "source": [
    "%%sql\n",
    "SELECT *\n",
    "FROM   students\n",
    "LIMIT 4"
   ]
  },
  {
   "cell_type": "markdown",
   "metadata": {},
   "source": [
    "One for the colleges:"
   ]
  },
  {
   "cell_type": "code",
   "execution_count": null,
   "metadata": {},
   "outputs": [],
   "source": [
    "%%sql\n",
    "SELECT *\n",
    "FROM   colleges\n",
    "LIMIT 4"
   ]
  },
  {
   "cell_type": "markdown",
   "metadata": {},
   "source": [
    "And one for all collage applications made by the students:"
   ]
  },
  {
   "cell_type": "code",
   "execution_count": null,
   "metadata": {},
   "outputs": [],
   "source": [
    "%%sql\n",
    "SELECT *\n",
    "FROM   applications\n",
    "LIMIT 4"
   ]
  },
  {
   "cell_type": "markdown",
   "metadata": {},
   "source": [
    "The `applications` table uses `s_id` instead of `s_name`,\n",
    "since we could have several students with the same name (we\n",
    "actually have two 'Amy') -- `s_id` is guaranteed to be\n",
    "unique (we'll talk _much_ more about uniqueness next week).\n",
    "\n",
    "Now assume we want to display all applications, _with the\n",
    "names of the students_ (not just student id). We then need a\n",
    "way to combine information in the `applications` table with\n",
    "information in the `students` table, and we'll do it with a\n",
    "_join_.\n",
    "\n",
    "\n",
    "The SQL standard specifies five different kinds of joins:\n",
    "\n",
    " + _cross join_\n",
    " + _inner join_\n",
    " + _left outer join_\n",
    " + _right outer join_\n",
    " + _full outer join_\n",
    "\n",
    "The most primitive of these is the cross join -- we can\n",
    "write it as:"
   ]
  },
  {
   "cell_type": "markdown",
   "metadata": {},
   "source": [
    "```\n",
    "SELECT      *\n",
    "FROM        a \n",
    "CROSS JOIN  b\n",
    "```\n"
   ]
  },
  {
   "cell_type": "markdown",
   "metadata": {},
   "source": [
    "Doing this, we get all combinations of rows from each of\n",
    "table `a` and `b` -- the rows will contain all attributes\n",
    "from both tables (unless we make a projection).\n",
    "\n",
    "If we do it with our `applications` and `students` tables we\n",
    "get:"
   ]
  },
  {
   "cell_type": "code",
   "execution_count": null,
   "metadata": {},
   "outputs": [],
   "source": [
    "%%sql\n",
    "SELECT      *\n",
    "FROM        applications \n",
    "CROSS JOIN  students"
   ]
  },
  {
   "cell_type": "markdown",
   "metadata": {},
   "source": [
    "The number of rows in this table is the product of the\n",
    "number of rows in each table, and most of the rows in the\n",
    "combined table are totally uninteresting.\n",
    "\n",
    "The only rows of interest to us are those where the student\n",
    "id from the `applications` table is the same as the student\n",
    "id from the `students` table, and we can express that as:"
   ]
  },
  {
   "cell_type": "code",
   "execution_count": null,
   "metadata": {},
   "outputs": [],
   "source": [
    "%%sql\n",
    "SELECT      *\n",
    "FROM        applications \n",
    "CROSS JOIN  students\n",
    "WHERE       applications.s_id = students.s_id"
   ]
  },
  {
   "cell_type": "markdown",
   "metadata": {},
   "source": [
    "or, using aliases, so we don't have to write long table\n",
    "names:"
   ]
  },
  {
   "cell_type": "code",
   "execution_count": null,
   "metadata": {},
   "outputs": [],
   "source": [
    "%%sql\n",
    "SELECT      *\n",
    "FROM        applications AS a \n",
    "CROSS JOIN  students AS s\n",
    "WHERE       a.s_id = s.s_id"
   ]
  },
  {
   "cell_type": "markdown",
   "metadata": {},
   "source": [
    "We can clean up the output using a projection:"
   ]
  },
  {
   "cell_type": "code",
   "execution_count": null,
   "metadata": {},
   "outputs": [],
   "source": [
    "%%sql\n",
    "SELECT      s.s_name, a.c_name, a.major\n",
    "FROM        applications AS a \n",
    "CROSS JOIN  students AS s\n",
    "WHERE       a.s_id = s.s_id"
   ]
  },
  {
   "cell_type": "markdown",
   "metadata": {},
   "source": [
    "or even"
   ]
  },
  {
   "cell_type": "code",
   "execution_count": null,
   "metadata": {},
   "outputs": [],
   "source": [
    "%%sql\n",
    "SELECT      s_name AS name, c_name AS college, major\n",
    "FROM        applications AS a\n",
    "CROSS JOIN  students AS s\n",
    "WHERE       a.s_id = s.s_id"
   ]
  },
  {
   "cell_type": "markdown",
   "metadata": {},
   "source": [
    "(we only need to prefix column names when there would\n",
    "otherwise be an ambiguity).\n",
    "\n",
    "There is a shortcut for cross joins, we can just put a comma\n",
    "between the two tables we want to join:"
   ]
  },
  {
   "cell_type": "code",
   "execution_count": null,
   "metadata": {},
   "outputs": [],
   "source": [
    "%%sql\n",
    "SELECT s_name AS name, c_name AS college, major\n",
    "FROM   applications AS a, students AS s\n",
    "WHERE  a.s_id = s.s_id"
   ]
  },
  {
   "cell_type": "markdown",
   "metadata": {},
   "source": [
    "This works, but there are much more elegant ways write this\n",
    "query.\n",
    "\n",
    "An _inner join_ combine two tables into a new table (it's\n",
    "not actually saved as a table) -- it does this by creating\n",
    "combined rows only when rows from the two tables 'match'\n",
    "each other. In this case it's the `s_id` columns which\n",
    "should match, so we write:"
   ]
  },
  {
   "cell_type": "code",
   "execution_count": null,
   "metadata": {},
   "outputs": [],
   "source": [
    "%%sql\n",
    "SELECT      s_name AS name, c_name AS college, major\n",
    "FROM        applications AS a \n",
    "INNER JOIN  students AS s \n",
    "ON          a.s_id = s.s_id"
   ]
  },
  {
   "cell_type": "markdown",
   "metadata": {},
   "source": [
    "Logically it can be seen as the equivalent of a cross join\n",
    "and then a selection, but the database engine normally use\n",
    "algorithms which are much faster and requires much less\n",
    "memory when we define an inner join. Once you get used to\n",
    "them, inner joins will feel much better to use than cross\n",
    "joins (although, in theory, the database should try to\n",
    "optimize all queries, and _might_ find an efficient way to\n",
    "execute even cross joins).\n",
    "\n",
    "Inner joins are the default joins, so we can omit the word\n",
    "`INNER`, and just write `JOIN`:"
   ]
  },
  {
   "cell_type": "code",
   "execution_count": null,
   "metadata": {},
   "outputs": [],
   "source": [
    "%%sql\n",
    "SELECT  s_name AS name, c_name AS college, major\n",
    "FROM    applications AS a\n",
    "JOIN    students AS s\n",
    "ON      a.s_id = s.s_id"
   ]
  },
  {
   "cell_type": "markdown",
   "metadata": {},
   "source": [
    "The condition on which we join tables is often called the\n",
    "_join predicate_, and a join where the join predicate is an\n",
    "equality test, such as here, is sometimes called an\n",
    "_equi-join_. There is a special form of join when the\n",
    "columns we're comparing in an equi-join have the same name:"
   ]
  },
  {
   "cell_type": "code",
   "execution_count": null,
   "metadata": {},
   "outputs": [],
   "source": [
    "%%sql\n",
    "SELECT  s_name AS name, c_name AS college, major\n",
    "FROM    applications\n",
    "JOIN    students\n",
    "USING   (s_id)"
   ]
  },
  {
   "cell_type": "markdown",
   "metadata": {},
   "source": [
    "One benefit from using `USING` is that the columns we join\n",
    "over will not be duplicated, we get only one of them in the\n",
    "output. \n",
    "\n",
    "I'd say this is the preferred way of writing this query.\n",
    "\n",
    "There is an even simpler way to write it, using what's\n",
    "called a _natural join_, but it's error-prone, and you're\n",
    "recommended not to use it. It's written as"
   ]
  },
  {
   "cell_type": "code",
   "execution_count": null,
   "metadata": {},
   "outputs": [],
   "source": [
    "%%sql\n",
    "SELECT        s_name AS name, c_name AS college, major\n",
    "FROM          applications\n",
    "NATURAL JOIN  students"
   ]
  },
  {
   "cell_type": "markdown",
   "metadata": {},
   "source": [
    "and it joins the tables using an equi-join for all columns\n",
    "with coinciding names -- _this could create big problems if\n",
    "there are attributes in the tables which just happen to\n",
    "coincide without us realizing it!_ If we use the `JOIN` ...\n",
    "`USING` instead, we explicitly declare on which attributes\n",
    "to join, so we guard ourselves against accidental column\n",
    "name collisions.\n",
    "\n",
    "Observe that we can use selections just as before when we\n",
    "join tables. \n",
    "\n",
    "**Exercise:** _Write a SQL query which shows all applications as\n",
    "above, but only for students applying for CS at Stanford._"
   ]
  },
  {
   "cell_type": "code",
   "execution_count": null,
   "metadata": {},
   "outputs": [],
   "source": [
    "%%sql\n"
   ]
  },
  {
   "cell_type": "markdown",
   "metadata": {},
   "source": [
    "**Exercise:** _Write a SQL query which shows all applications\n",
    "as above, but also shows what state the college is in._"
   ]
  },
  {
   "cell_type": "code",
   "execution_count": null,
   "metadata": {},
   "outputs": [],
   "source": [
    "%%sql\n"
   ]
  },
  {
   "cell_type": "markdown",
   "metadata": {},
   "source": [
    "We can join a table with itself, write a query which finds\n",
    "all pairs with the same Grade Point Average (GPA):\n",
    "\n",
    "We can do it either with a cross join:"
   ]
  },
  {
   "cell_type": "code",
   "execution_count": null,
   "metadata": {},
   "outputs": [],
   "source": [
    "%%sql\n",
    "SELECT s1.s_id, s1.s_name, s1.gpa, s2.s_id, s2.s_name, s2.gpa\n",
    "FROM   students AS s1, students AS s2\n",
    "WHERE  s1.gpa = s2.gpa AND\n",
    "       s1.s_id < s2.s_id"
   ]
  },
  {
   "cell_type": "markdown",
   "metadata": {},
   "source": [
    "or with an inner join:"
   ]
  },
  {
   "cell_type": "code",
   "execution_count": null,
   "metadata": {},
   "outputs": [],
   "source": [
    "%%sql\n",
    "SELECT s1.s_id, s1.s_name, s2.s_id, s2.s_name, gpa\n",
    "FROM   students AS s1 \n",
    "JOIN   students AS s2 \n",
    "USING  (gpa)\n",
    "WHERE  s1.s_id < s2.s_id"
   ]
  },
  {
   "cell_type": "markdown",
   "metadata": {},
   "source": [
    "Joining a table with itself is called a _self join_."
   ]
  }
 ],
 "metadata": {},
 "nbformat": 4,
 "nbformat_minor": 2
}