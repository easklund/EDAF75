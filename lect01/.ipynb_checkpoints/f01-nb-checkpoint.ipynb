{
 "cells": [
  {
   "cell_type": "markdown",
   "metadata": {},
   "source": [
    "# Our first Jupyter notebook\n",
    "\n",
    "This is a _Jupyter notebook_, it contains _cells_ in which\n",
    "we can evaluate program code.\n",
    "\n",
    "There is built in support for _Julia_, _Python_, and _R_\n",
    "(hence _Ju-Pyt-R_), here's some Python code:"
   ]
  },
  {
   "cell_type": "code",
   "execution_count": null,
   "metadata": {},
   "outputs": [],
   "source": [
    "def hello(name):\n",
    "    print('hello ' + name + '!')\n",
    "\n",
    "hello('world')"
   ]
  },
  {
   "cell_type": "markdown",
   "metadata": {},
   "source": [
    "We're primarily going to run SQL code (see below) in our\n",
    "notebooks, but I'll also show you some Python code later on\n",
    "in the course.\n",
    "\n",
    "You don't have to learn Python to take this course, there\n",
    "will always be the option to use Java instead, but I\n",
    "encourage you to have a look at Python, since it is growing\n",
    "in popularity very quickly, and has become the 'lingua\n",
    "franca' of data science (together with R).\n",
    "\n",
    "\n",
    "## Introduction to relational databases\n",
    "\n",
    "A [_Relational\n",
    "Database_](https://en.wikipedia.org/wiki/Relational_database)\n",
    "stores its data in\n",
    "[_tables_](https://en.wikipedia.org/wiki/Table_(database),\n",
    "where each table looks like a simple spreadsheet:\n",
    "\n",
    "<style type=\"text/css\">\n",
    ".tg  {border-collapse:collapse;border-spacing:0;border-color:#999;margin:0px auto;}\n",
    ".tg td{font-family:Arial, sans-serif;font-size:14px;padding:10px 5px;border-style:solid;border-width:1px;overflow:hidden;word-break:normal;border-color:#999;color:#444;background-color:#F7FDFA;}\n",
    ".tg th{font-family:Arial, sans-serif;font-size:14px;font-weight:normal;padding:10px 5px;border-style:solid;border-width:1px;overflow:hidden;word-break:normal;border-color:#999;color:#fff;background-color:#26ADE4;}\n",
    ".tg .tg-e3zv{font-weight:bold}\n",
    ".tg .tg-9hbo{font-weight:bold;vertical-align:top}\n",
    ".tg .tg-yw4l{vertical-align:top}\n",
    "</style>\n",
    "<table class=\"tg\">\n",
    "  <tr>\n",
    "    <th class=\"tg-e3zv\">year</th>\n",
    "    <th class=\"tg-9hbo\">category</th>\n",
    "    <th class=\"tg-9hbo\">laureate</th>\n",
    "    <th class=\"tg-9hbo\">motivation</th>\n",
    "  </tr>\n",
    "  <tr>\n",
    "    <td class=\"tg-yw4l\">2011</td>\n",
    "    <td class=\"tg-yw4l\">literature</td>\n",
    "    <td class=\"tg-yw4l\">Tomas Tranströmer</td>\n",
    "    <td class=\"tg-yw4l\">...</td>\n",
    "  </tr>\n",
    "  <tr>\n",
    "    <td class=\"tg-yw4l\">2011</td>\n",
    "    <td class=\"tg-yw4l\">physics</td>\n",
    "    <td class=\"tg-yw4l\">Adam Riess</td>\n",
    "    <td class=\"tg-yw4l\">...</td>\n",
    "  </tr>\n",
    "  <tr>\n",
    "    <td class=\"tg-yw4l\">2011</td>\n",
    "    <td class=\"tg-yw4l\">chemistry</td>\n",
    "    <td class=\"tg-yw4l\">Dan Shechtman</td>\n",
    "    <td class=\"tg-yw4l\">...</td>\n",
    "  </tr>\n",
    "  <tr>\n",
    "    <td class=\"tg-yw4l\">2011</td>\n",
    "    <td class=\"tg-yw4l\">medicine</td>\n",
    "    <td class=\"tg-yw4l\">Ralph Steinman</td>\n",
    "    <td class=\"tg-yw4l\">...</td>\n",
    "  </tr>\n",
    "</table>\n",
    "\n",
    "A _row_ represents an item, and a _column_ represents a\n",
    "property of the items.\n",
    "\n",
    "In the example above, each row describes how someone was\n",
    "awarded the Nobel price, and for each row, we have columns\n",
    "showing what year the prize was awarded, in what category,\n",
    "the name of the laureate, and the motivation (not shown\n",
    "here).\n",
    "\n",
    "The basic idea of relational databases is that all 'cells'\n",
    "in the table should be simple values (no lists or objects!),\n",
    "and that we can use simple operations from [_relational\n",
    "algebra_](https://en.wikipedia.org/wiki/Relational_algebra)\n",
    "to get information from it. We do it using a programming\n",
    "language which is highly specialized for extracting\n",
    "information, it is called\n",
    "[SQL](https://en.wikipedia.org/wiki/SQL), which is short\n",
    "hand for _Structured Query Language_. SQL can be pronounced\n",
    "as either \"S-Q-L\", or \"sequel\".\n",
    "\n",
    "SQL is divided into several sub-languages:\n",
    "\n",
    " + _DDL_ (_Data Definition Language_): constructs used to\n",
    "   define the tables of a database,\n",
    "\n",
    " + _DML_ (_Data Manipulation Language_): statements used to\n",
    "   query and manipulate data in a database,\n",
    "   \n",
    " + _TCL_ (_Transaction Control Language_): commands used to\n",
    "   handle transactions (we will return to what a transaction\n",
    "   is later in the course), and\n",
    "   \n",
    " + _DCL_ (_Data Control Language_): commands used to\n",
    "   controll access to our data (we'll will not deal with\n",
    "   them in this course).\n",
    "\n",
    "This week we'll focus on DML, i.e., ways to query our\n",
    "databases -- next week we'll look at how to design and\n",
    "define our databases.\n",
    "\n",
    "Today, we'll discuss the following operations:\n",
    "\n",
    " + _selection_: choosing some of the rows of a table\n",
    "\n",
    " + _projection_: choosing some of the columns of a table\n",
    "\n",
    " + _union_ and _intersection_: combining the rows of two\n",
    "   tables (the tables must be compatible, which means that\n",
    "   they have the same columns)\n",
    "   \n",
    "We'll also see ways to combine queries.\n",
    "\n",
    "Next time we'll study some other very important operations,\n",
    "which allows us to join several tables in interesting ways.\n",
    "\n",
    "## SQLite\n",
    "\n",
    "There are many different Relational Database Management\n",
    "Systems\n",
    "([RDMBS:es](https://en.wikipedia.org/wiki/Relational_database))\n",
    "which implements SQL, in this course we'll use\n",
    "[SQLite](https://en.wikipedia.org/wiki/SQLite), which is a\n",
    "lightweight but still very powerful system.\n",
    "\n",
    "The `SQLite` file `lect01.sqlite` contains all Nobel\n",
    "Laureates in Physicis, Chemistry, Medicine, and Literature\n",
    "since 1901 (the Economics prize isn't really a Nobel price,\n",
    "its an award given by Riksbanken in memory of Alfred Nobel,\n",
    "and the Peace Prize is awarded by Norwegians). At the bottom\n",
    "of this page there's a description of how I created the\n",
    "database.\n",
    "\n",
    "To be able to write SQL queries in this notebook, we first\n",
    "have to run:"
   ]
  },
  {
   "cell_type": "code",
   "execution_count": 2,
   "metadata": {},
   "outputs": [
    {
     "name": "stdout",
     "output_type": "stream",
     "text": [
      "The sql module is not an IPython extension.\n"
     ]
    }
   ],
   "source": [
    "%load_ext sql"
   ]
  },
  {
   "cell_type": "markdown",
   "metadata": {},
   "source": [
    "And to work with our database, we import it with:"
   ]
  },
  {
   "cell_type": "code",
   "execution_count": 3,
   "metadata": {},
   "outputs": [
    {
     "name": "stderr",
     "output_type": "stream",
     "text": [
      "UsageError: Line magic function `%sql` not found.\n"
     ]
    }
   ],
   "source": [
    "%sql sqlite:///lect01.sqlite"
   ]
  },
  {
   "cell_type": "markdown",
   "metadata": {},
   "source": [
    "Now we're good to go, we just have to prefix our SQL queries\n",
    "with `%sql` (one line of SQL) or `%%sql` (several lines of\n",
    "SQL, this is the form we will use in most cases).\n",
    "\n",
    "## Some queries\n",
    "\n",
    "A simple _SQL query_ can be written as:"
   ]
  },
  {
   "cell_type": "markdown",
   "metadata": {},
   "source": [
    "```text\n",
    "SELECT <what we're looking for>\n",
    "FROM   <what table we're looking in>\n",
    "```\n"
   ]
  },
  {
   "cell_type": "markdown",
   "metadata": {},
   "source": [
    "This selects all rows of a given table. If we're only\n",
    "interesting in some of the rows, and we normally are, we\n",
    "write:"
   ]
  },
  {
   "cell_type": "markdown",
   "metadata": {},
   "source": [
    "```text\n",
    "SELECT <what we're looking for>\n",
    "FROM   <what table we're looking in>\n",
    "WHERE  <what items we're interested in>\n",
    "```\n"
   ]
  },
  {
   "cell_type": "markdown",
   "metadata": {},
   "source": [
    "The latter form is so common that it's got its own acronym:\n",
    "\"SFW\" (short for `SELECT`-`FROM`-`WHERE`).\n",
    "\n",
    "Let's use the first form above to see all Nobel prizes which\n",
    "has been handed out:"
   ]
  },
  {
   "cell_type": "code",
   "execution_count": null,
   "metadata": {},
   "outputs": [],
   "source": [
    "%%sql\n"
   ]
  },
  {
   "cell_type": "markdown",
   "metadata": {},
   "source": [
    "This is too much to look through, so let's first limit the\n",
    "output to 10 rows:"
   ]
  },
  {
   "cell_type": "code",
   "execution_count": null,
   "metadata": {},
   "outputs": [],
   "source": [
    "%%sql\n"
   ]
  },
  {
   "cell_type": "markdown",
   "metadata": {},
   "source": [
    "We can also _select_ only those prizes awarded in 2013."
   ]
  },
  {
   "cell_type": "code",
   "execution_count": null,
   "metadata": {},
   "outputs": [],
   "source": [
    "%%sql\n"
   ]
  },
  {
   "cell_type": "markdown",
   "metadata": {},
   "source": [
    "Observe that the query returns a new table, we'll soon see\n",
    "that we can use the returned table in other queries.\n",
    "\n",
    "**Q:** _What year did Einstein get his award, and why?_\n",
    "\n",
    "This requires both a _selection_ (the row with Einstein's\n",
    "award) and a _projection_ (only the year and motivation):"
   ]
  },
  {
   "cell_type": "code",
   "execution_count": null,
   "metadata": {},
   "outputs": [],
   "source": [
    "%%sql\n"
   ]
  },
  {
   "cell_type": "markdown",
   "metadata": {},
   "source": [
    "Observe that the selection (what rows we're interested in)\n",
    "is given in the `WHERE` clause, whereas the projection (what\n",
    "columns we're interested in) is defined in the `SELECT`\n",
    "clause (the naming is somewhat counter intuitive).\n",
    "\n",
    "The names of the columns in the returned table is shown\n",
    "above the actual output, if we want to rename any of the\n",
    "columns in the returned table, we can use an _alias_:"
   ]
  },
  {
   "cell_type": "code",
   "execution_count": null,
   "metadata": {},
   "outputs": [],
   "source": [
    "%%sql\n"
   ]
  },
  {
   "cell_type": "markdown",
   "metadata": {},
   "source": [
    "**Q:** _Who was awarded the physics prize in 1922?_"
   ]
  },
  {
   "cell_type": "code",
   "execution_count": null,
   "metadata": {},
   "outputs": [],
   "source": [
    "%%sql\n"
   ]
  },
  {
   "cell_type": "markdown",
   "metadata": {},
   "source": [
    "**Q:** _Who were awarded the physics prize in 1922 and\n",
    "1923?_ (Solve this problem in at least four different ways)."
   ]
  },
  {
   "cell_type": "code",
   "execution_count": null,
   "metadata": {},
   "outputs": [],
   "source": [
    "%%sql\n"
   ]
  },
  {
   "cell_type": "code",
   "execution_count": null,
   "metadata": {},
   "outputs": [],
   "source": [
    "%%sql\n"
   ]
  },
  {
   "cell_type": "code",
   "execution_count": null,
   "metadata": {},
   "outputs": [],
   "source": [
    "%%sql\n"
   ]
  },
  {
   "cell_type": "code",
   "execution_count": null,
   "metadata": {},
   "outputs": [],
   "source": [
    "%%sql\n"
   ]
  },
  {
   "cell_type": "markdown",
   "metadata": {},
   "source": [
    "There are often several ways of doing things in SQL, and one\n",
    "of the main points of using SQL is that the RDBMS tries to\n",
    "optimize the operations it needs to fetch our data (there is\n",
    "some seriously clever code running behind the scenes).\n",
    "\n",
    "**Q:** _Who has been awarded the prize in medicine since\n",
    "2010, ordered by name?_"
   ]
  },
  {
   "cell_type": "code",
   "execution_count": null,
   "metadata": {},
   "outputs": [],
   "source": [
    "%%sql\n"
   ]
  },
  {
   "cell_type": "markdown",
   "metadata": {},
   "source": [
    "**Q:** _What year did Winston Churchill win a prize, and in\n",
    "what category?_"
   ]
  },
  {
   "cell_type": "code",
   "execution_count": null,
   "metadata": {},
   "outputs": [],
   "source": [
    "%%sql\n"
   ]
  },
  {
   "cell_type": "markdown",
   "metadata": {},
   "source": [
    "Using `LIKE` in our conditions, we get some rudimentary form\n",
    "of wildcard matching (some SQL databases allow more advanced\n",
    "regular expressions, but that's beyond the scope of this\n",
    "course).\n",
    "\n",
    "\n",
    "If we want to categorize our output, we can use a `CASE`\n",
    "statement, it has the general form:"
   ]
  },
  {
   "cell_type": "markdown",
   "metadata": {},
   "source": [
    "```sql\n",
    "SELECT ..., \n",
    "       CASE \n",
    "           WHEN ... THEN ...\n",
    "           WHEN ... THEN ...\n",
    "           ELSE ...\n",
    "       END AS <name>\n",
    "FROM ...\n",
    "```\n"
   ]
  },
  {
   "cell_type": "markdown",
   "metadata": {},
   "source": [
    "**Q:** _Show all laureates in physics with a name beginning\n",
    "with 'P', if they won the price before 1970 they're ancient,\n",
    "if the won the prize between 1970 and 2000 they're veterans,\n",
    "otherwise they're newbies._"
   ]
  },
  {
   "cell_type": "code",
   "execution_count": null,
   "metadata": {},
   "outputs": [],
   "source": [
    "%%sql\n"
   ]
  },
  {
   "cell_type": "markdown",
   "metadata": {},
   "source": [
    "### `SELECT` and `SELECT DISTINCT`\n",
    "\n",
    "**Q:** _What are the different categories of Nobel prizes?_"
   ]
  },
  {
   "cell_type": "code",
   "execution_count": null,
   "metadata": {},
   "outputs": [],
   "source": [
    "%%sql\n"
   ]
  },
  {
   "cell_type": "markdown",
   "metadata": {},
   "source": [
    "Using `SELECT DISTINCT` we only get unique rows in our\n",
    "output table.\n",
    "\n",
    "\n",
    "### Using functions and aggregate functions\n",
    "\n",
    "There are some functions we can apply to our values, each\n",
    "RDBMS supplies their own set of functions. For example,\n",
    "SQLite has a `substr` function:"
   ]
  },
  {
   "cell_type": "markdown",
   "metadata": {},
   "source": [
    "```sql\n",
    "substr(value, first_pos, [length])\n",
    "```\n"
   ]
  },
  {
   "cell_type": "markdown",
   "metadata": {},
   "source": [
    "**Q:** _What was the initial letters of the laureates in\n",
    "year 2000?_"
   ]
  },
  {
   "cell_type": "code",
   "execution_count": null,
   "metadata": {},
   "outputs": [],
   "source": [
    "%%sql\n"
   ]
  },
  {
   "cell_type": "markdown",
   "metadata": {},
   "source": [
    "An _aggregate function_ can be applied to all rows in a\n",
    "table, and then returns only one value.\n",
    "\n",
    "The standard aggregate functions are:\n",
    "\n",
    " + `AVG`: calculates the average for a given column\n",
    " + `COUNT`: counts the rows in a given table\n",
    " + `MIN`: gets the minimum value of a given column\n",
    " + `MAX`: gets the maximum value of a given column\n",
    " + `SUM`: calculates the sum of a given column\n",
    "\n",
    "\n",
    "**Q:** _How many of the laureates has had a first name\n",
    "beginning with an 'A'?_"
   ]
  },
  {
   "cell_type": "code",
   "execution_count": null,
   "metadata": {},
   "outputs": [],
   "source": [
    "%%sql\n"
   ]
  },
  {
   "cell_type": "markdown",
   "metadata": {},
   "source": [
    "**Q:** _What year was the first Nobel prize awarded?_"
   ]
  },
  {
   "cell_type": "code",
   "execution_count": null,
   "metadata": {},
   "outputs": [],
   "source": [
    "%%sql\n"
   ]
  },
  {
   "cell_type": "markdown",
   "metadata": {},
   "source": [
    "**Q:** _How many Nobel prizes for chemistry has been\n",
    "awarded?_"
   ]
  },
  {
   "cell_type": "code",
   "execution_count": null,
   "metadata": {},
   "outputs": [],
   "source": [
    "%%sql\n"
   ]
  },
  {
   "cell_type": "markdown",
   "metadata": {},
   "source": [
    "### Grouping and aggregates\n",
    "\n",
    "**Q:** _How many laureates are there in each category? Which\n",
    "category has seen the most laureates?_"
   ]
  },
  {
   "cell_type": "code",
   "execution_count": null,
   "metadata": {},
   "outputs": [],
   "source": [
    "%%sql\n"
   ]
  },
  {
   "cell_type": "markdown",
   "metadata": {},
   "source": [
    "Using `GROUP BY` groups the output in a way which lets us\n",
    "use aggregate functions for each of the different groups\n",
    "(the result of a `GROUP BY` query without an aggregate\n",
    "function often looks weird). We can group on _one column or\n",
    "more_.\n",
    "\n",
    "**Q:** _How many olympic games has each continent hosted?_"
   ]
  },
  {
   "cell_type": "code",
   "execution_count": null,
   "metadata": {},
   "outputs": [],
   "source": [
    "%%sql\n"
   ]
  },
  {
   "cell_type": "markdown",
   "metadata": {},
   "source": [
    "**Q:** _When was the first olympic games in each continent?_"
   ]
  },
  {
   "cell_type": "code",
   "execution_count": null,
   "metadata": {},
   "outputs": [],
   "source": [
    "%%sql\n"
   ]
  },
  {
   "cell_type": "markdown",
   "metadata": {},
   "source": [
    "If we add a `HAVING` clause, we can filter groups in the\n",
    "same way we filter rows with a `WHERE` clause.\n",
    "\n",
    "**Q:** _Which countries has hosted the summer olympics more\n",
    "than once?_"
   ]
  },
  {
   "cell_type": "code",
   "execution_count": null,
   "metadata": {},
   "outputs": [],
   "source": [
    "%%sql\n"
   ]
  },
  {
   "cell_type": "markdown",
   "metadata": {},
   "source": [
    "**Q:** _List the continents in descending order by the\n",
    "number of times they've hosted the summer olympics_"
   ]
  },
  {
   "cell_type": "code",
   "execution_count": null,
   "metadata": {
    "collapsed": true
   },
   "outputs": [],
   "source": [
    "%%sql\n"
   ]
  },
  {
   "cell_type": "markdown",
   "metadata": {},
   "source": [
    "**Q:** _Show an 'histogram' over the the initial letter of\n",
    "the names of all Nobel laureates_"
   ]
  },
  {
   "cell_type": "code",
   "execution_count": null,
   "metadata": {},
   "outputs": [],
   "source": [
    "%%sql\n"
   ]
  },
  {
   "cell_type": "markdown",
   "metadata": {},
   "source": [
    "**Q:** _Show an 'histogram' over the the initial letter of\n",
    "the names of all Nobel laureates, for each category_"
   ]
  },
  {
   "cell_type": "code",
   "execution_count": null,
   "metadata": {},
   "outputs": [],
   "source": [
    "%%sql\n"
   ]
  },
  {
   "cell_type": "markdown",
   "metadata": {},
   "source": [
    "### Subqueries\n",
    "\n",
    "**Q:** _Has the Nobel prize for literature ever been split?_"
   ]
  },
  {
   "cell_type": "code",
   "execution_count": null,
   "metadata": {},
   "outputs": [],
   "source": [
    "%%sql\n"
   ]
  },
  {
   "cell_type": "markdown",
   "metadata": {},
   "source": [
    "A useful pattern is:"
   ]
  },
  {
   "cell_type": "markdown",
   "metadata": {},
   "source": [
    "```sql\n",
    "SELECT ...\n",
    "FROM   ...\n",
    "WHERE  ... IN\n",
    "       (SELECT ...\n",
    "        FROM ...\n",
    "        WHERE ...)\n",
    "```\n"
   ]
  },
  {
   "cell_type": "markdown",
   "metadata": {},
   "source": [
    "The second query is called a _subquery_.\n",
    "\n",
    "**Q:** _Which literature laureates split their price?_"
   ]
  },
  {
   "cell_type": "code",
   "execution_count": null,
   "metadata": {},
   "outputs": [],
   "source": [
    "%%sql\n"
   ]
  },
  {
   "cell_type": "markdown",
   "metadata": {},
   "source": [
    "There is another form of subquery which we'll return to\n",
    "later.\n",
    "\n",
    "**Q:** _Who has won the literature prize in a year when at\n",
    "least one chemistry laureate had a name beginning with 'L'?_"
   ]
  },
  {
   "cell_type": "code",
   "execution_count": null,
   "metadata": {
    "collapsed": true
   },
   "outputs": [],
   "source": [
    "%%sql\n",
    "SELECT ..."
   ]
  },
  {
   "cell_type": "code",
   "execution_count": null,
   "metadata": {},
   "outputs": [],
   "source": [
    "%%sql\n",
    "SELECT year\n",
    "FROM   olympics\n",
    "WHERE  continent = 'Europe'"
   ]
  },
  {
   "cell_type": "markdown",
   "metadata": {},
   "source": [
    "**Q:** _Who has shared the chemistry prize with exactly one\n",
    "other laureate in years when the summer olympics were held\n",
    "in Europe?_"
   ]
  },
  {
   "cell_type": "code",
   "execution_count": null,
   "metadata": {
    "collapsed": true
   },
   "outputs": [],
   "source": [
    "%%sql\n",
    "SELECT year, laureate"
   ]
  },
  {
   "cell_type": "markdown",
   "metadata": {},
   "source": [
    "**Q:** _Has anyone won more than one price?_"
   ]
  },
  {
   "cell_type": "code",
   "execution_count": null,
   "metadata": {},
   "outputs": [],
   "source": [
    "%%sql\n"
   ]
  },
  {
   "cell_type": "markdown",
   "metadata": {},
   "source": [
    "**Q:** _Has anyone won more than one price in the same\n",
    "category?_"
   ]
  },
  {
   "cell_type": "code",
   "execution_count": null,
   "metadata": {
    "collapsed": true
   },
   "outputs": [],
   "source": [
    "%%sql\n"
   ]
  },
  {
   "cell_type": "code",
   "execution_count": null,
   "metadata": {
    "collapsed": true
   },
   "outputs": [],
   "source": [
    "%%sql\n"
   ]
  },
  {
   "cell_type": "code",
   "execution_count": null,
   "metadata": {
    "collapsed": true
   },
   "outputs": [],
   "source": [
    "%%sql\n"
   ]
  },
  {
   "cell_type": "code",
   "execution_count": null,
   "metadata": {
    "collapsed": true
   },
   "outputs": [],
   "source": [
    "%%sql\n"
   ]
  },
  {
   "cell_type": "markdown",
   "metadata": {},
   "source": [
    "Is there any redundance in the table of the summer olympics?\n",
    "\n",
    "\n",
    "\n",
    "## Generating the database\n",
    "\n",
    "This is a description of how I created the database, it's\n",
    "just for the curious, and not part of the course.\n",
    "\n",
    "The data is copied from\n",
    "[`Nobelprize.org`](https://www.nobelprize.org/nobel_prizes/lists/all/create_list.html),\n",
    "and then pasted into a text file `nobel.csv` (`.csv` for\n",
    "comma-separated-values). I used `Emacs` to tidy things up\n",
    "(just some simple macros), and then I imported the text file\n",
    "into `sqlite` using the following script (I put it in the\n",
    "text file `nobel.sql`):"
   ]
  },
  {
   "cell_type": "markdown",
   "metadata": {},
   "source": [
    "```{sql}\n",
    "DROP TABLE IF EXISTS nobel;\n",
    "CREATE TABLE nobel (\n",
    "  year        INT,\n",
    "  category    TEXT,\n",
    "  laureate    TEXT,\n",
    "  motivation  TEXT\n",
    ");\n",
    "\n",
    ".mode csv\n",
    ".separator ';'\n",
    ".import nobel.csv nobel\n",
    ".save nobel.sqlite\n",
    "```\n"
   ]
  },
  {
   "cell_type": "markdown",
   "metadata": {},
   "source": [
    "To create a `sqlite`-file `nobel.sqlite` with all laureates,\n",
    "I only had to run the following command in a terminal (the\n",
    "exclamation sign tells `jupyter` to execute a shell\n",
    "command):"
   ]
  },
  {
   "cell_type": "code",
   "execution_count": null,
   "metadata": {
    "collapsed": true
   },
   "outputs": [],
   "source": [
    "!sqlite3 nobel.sqlite < nobel.sql"
   ]
  },
  {
   "cell_type": "markdown",
   "metadata": {},
   "source": [
    "You can find information about running\n",
    "[SQLite](http://sqlite.org/) from a command line\n",
    "[here](https://sqlite.org/cli.html). I could have made\n",
    "things somewhat easier for myself by adding an extra header\n",
    "row first in my `.csv`-file, but I wanted to define the\n",
    "table myself, to make sure that `year` was saved as integers\n",
    "-- we'll return to this later in the course."
   ]
  }
 ],
 "metadata": {
  "kernelspec": {
   "display_name": "Python 3",
   "language": "python",
   "name": "python3"
  },
  "language_info": {
   "codemirror_mode": {
    "name": "ipython",
    "version": 3
   },
   "file_extension": ".py",
   "mimetype": "text/x-python",
   "name": "python",
   "nbconvert_exporter": "python",
   "pygments_lexer": "ipython3",
   "version": "3.6.3"
  }
 },
 "nbformat": 4,
 "nbformat_minor": 2
}
